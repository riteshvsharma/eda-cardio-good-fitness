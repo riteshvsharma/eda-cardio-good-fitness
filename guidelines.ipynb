{
 "cells": [
  {
   "cell_type": "markdown",
   "metadata": {},
   "source": [
    "# Objective - Preliminary Data Analysis. \n",
    "\n",
    "Explore the dataset and practice extracting basic observations about the data. The idea is for you to get comfortable working in Python.\n",
    "\n",
    "You are expected to do the following :\n",
    "\n",
    "Come up with a customer profile (characteristics of a customer) of the different products\n",
    "Perform uni-variate and multi-variate analyses\n",
    "Generate a set of insights and recommendations that will help the company in targeting new customers\n",
    "Context - The data is for customers of the treadmill product(s) of a retail store called Cardio Good Fitness. It contains the following variables\n",
    "\n",
    "Product - the model no. of the treadmill\n",
    "Age - in no of years, of the customer\n",
    "Gender - of the customer\n",
    "Education - in no. of years, of the customer\n",
    "Marital Status - of the customer\n",
    "Usage - Avg. # times the customer wants to use the treadmill every week\n",
    "Fitness - Self rated fitness score of the customer (5 - very fit, 1 - very unfit)\n",
    "Income - of the customer\n",
    "Miles- expected to run\n",
    "Explore the dataset to identify differences between customers of each product. You can also explore relationships between the different attributes of customers. You can approach it from any other line of questioning that you feel could be relevant for the business.\n",
    "\n",
    "## Best Practices for Notebook : \n",
    "\n",
    "The notebook should be well-documented, with inline comments explaining the functionality of code and markdown cells containing comments on the observations and insights.\n",
    "The notebook should be run from start to finish in a sequential manner before submission.\n",
    "It is preferable to remove all warnings and errors before submission.\n",
    "The notebook should be submitted as an HTML file (.html) and as a notebook file (.ipynb)\n",
    "Submission Guidelines :\n",
    "\n",
    "There are two parts to the submission: \n",
    "A well commented Jupyter notebook [format - .ipynb]\n",
    "File converted to HTML format \n",
    "Any assignment found copied/ plagiarized with other groups will not be graded and awarded zero marks\n",
    "Please ensure timely submission as any submission post-deadline will not be accepted for evaluation\n",
    "Submission will not be evaluated if,\n",
    "it is submitted post-deadline, or,\n",
    "more than 2 files are submitted\n",
    "Happy Learning!!"
   ]
  }
 ],
 "metadata": {
  "kernelspec": {
   "display_name": "Python 3",
   "language": "python",
   "name": "python3"
  },
  "language_info": {
   "codemirror_mode": {
    "name": "ipython",
    "version": 3
   },
   "file_extension": ".py",
   "mimetype": "text/x-python",
   "name": "python",
   "nbconvert_exporter": "python",
   "pygments_lexer": "ipython3",
   "version": "3.7.3"
  }
 },
 "nbformat": 4,
 "nbformat_minor": 2
}